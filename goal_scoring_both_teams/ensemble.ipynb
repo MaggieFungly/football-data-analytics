{
 "cells": [
  {
   "cell_type": "code",
   "execution_count": 1,
   "metadata": {},
   "outputs": [],
   "source": [
    "import warnings\n",
    "import pandas as pd\n",
    "import numpy as np\n",
    "import os\n",
    "import matplotlib.pyplot as plt\n",
    "import ast\n",
    "import models\n",
    "import eventstox\n",
    "\n",
    "%matplotlib inline\n",
    "plt.rcParams['figure.figsize'] = [6, 4]\n",
    "\n",
    "pd.set_option('display.max_rows', None)\n",
    "pd.set_option('display.max_columns', None)\n",
    "\n",
    "warnings.filterwarnings('ignore')\n",
    "\n",
    "%load_ext autoreload\n",
    "%autoreload 2\n",
    "%config InlineBackend.figure_format = 'retina'\n",
    "\n",
    "os.chdir(\"./goal_scoring_both_teams/\")"
   ]
  },
  {
   "cell_type": "code",
   "execution_count": 2,
   "metadata": {},
   "outputs": [
    {
     "name": "stderr",
     "output_type": "stream",
     "text": [
      "2024-01-19 14:30:23.277584: I external/local_tsl/tsl/cuda/cudart_stub.cc:31] Could not find cuda drivers on your machine, GPU will not be used.\n",
      "2024-01-19 14:30:23.422726: E external/local_xla/xla/stream_executor/cuda/cuda_dnn.cc:9261] Unable to register cuDNN factory: Attempting to register factory for plugin cuDNN when one has already been registered\n",
      "2024-01-19 14:30:23.422911: E external/local_xla/xla/stream_executor/cuda/cuda_fft.cc:607] Unable to register cuFFT factory: Attempting to register factory for plugin cuFFT when one has already been registered\n",
      "2024-01-19 14:30:23.441416: E external/local_xla/xla/stream_executor/cuda/cuda_blas.cc:1515] Unable to register cuBLAS factory: Attempting to register factory for plugin cuBLAS when one has already been registered\n",
      "2024-01-19 14:30:23.503116: I external/local_tsl/tsl/cuda/cudart_stub.cc:31] Could not find cuda drivers on your machine, GPU will not be used.\n",
      "2024-01-19 14:30:23.505476: I tensorflow/core/platform/cpu_feature_guard.cc:182] This TensorFlow binary is optimized to use available CPU instructions in performance-critical operations.\n",
      "To enable the following instructions: AVX2 FMA, in other operations, rebuild TensorFlow with the appropriate compiler flags.\n",
      "2024-01-19 14:30:24.743953: W tensorflow/compiler/tf2tensorrt/utils/py_utils.cc:38] TF-TRT Warning: Could not find TensorRT\n"
     ]
    }
   ],
   "source": [
    "import joblib\n",
    "\n",
    "lgb = joblib.load(\"lgb.joblib\")\n",
    "lstm = joblib.load(\"lstm.joblib\")"
   ]
  },
  {
   "cell_type": "code",
   "execution_count": 3,
   "metadata": {},
   "outputs": [],
   "source": [
    "df_1819 = pd.read_csv(\"df_1819.csv\")\n",
    "df_1920 = pd.read_csv(\"df_1920.csv\")\n",
    "df_2021 = pd.read_csv(\"df_2021.csv\")\n",
    "\n",
    "df = pd.concat([df_1819, df_1920], axis=0).reset_index(drop=True)"
   ]
  },
  {
   "cell_type": "code",
   "execution_count": 4,
   "metadata": {},
   "outputs": [],
   "source": [
    "from sklearn.preprocessing import MinMaxScaler\n",
    "\n",
    "\n",
    "def get_X_lstm_cols(X):\n",
    "    X_lstm = X.copy()\n",
    "\n",
    "    cols = X_lstm.columns\n",
    "    X_lstm = X_lstm.drop(columns=[col for col in cols if 'type' in col])\n",
    "    X_lstm = X_lstm.drop(\n",
    "        columns=['location_x_10', 'location_y_10', 'shot_angle'])\n",
    "\n",
    "    return X_lstm\n",
    "\n",
    "\n",
    "def minmax_scale(X_lstm: pd.DataFrame, scaler=None):\n",
    "\n",
    "    X_binary = X_lstm[[col for col in X_lstm.columns if (\n",
    "        ('team' in col) | ('outcome' in col))]]\n",
    "    X_numerical = X_lstm.drop(columns=X_binary.columns)\n",
    "\n",
    "    if scaler is None:\n",
    "        scaler = MinMaxScaler((0, 1))\n",
    "        scaler.fit(X_numerical)\n",
    "\n",
    "    X_numerical_scaled = pd.DataFrame(\n",
    "        scaler.transform(X_numerical),\n",
    "        columns=X_numerical.columns,\n",
    "    )\n",
    "    X_binary = X_binary.reset_index(drop=True)\n",
    "\n",
    "    X_scaled = pd.concat(\n",
    "        [X_numerical_scaled, X_binary],\n",
    "        axis=1\n",
    "    )\n",
    "    \n",
    "\n",
    "    return X_scaled, scaler\n",
    "\n",
    "\n",
    "def reshape_X_lstm(X_scaled):\n",
    "\n",
    "    X_arr = np.zeros((X_scaled.shape[0], 10, 6))\n",
    "\n",
    "    # List of features\n",
    "    features = [\"team\", \"outcome\", \"location_x\",\n",
    "                \"location_y\", \"end_location_x\", \"end_location_y\"]\n",
    "\n",
    "    # Iterate over each feature and timestamp to fill the array\n",
    "    for i, feature in enumerate(features):\n",
    "        for timestamp in range(10):\n",
    "            column_name = f\"{feature}_{timestamp}\"\n",
    "            X_arr[:, timestamp, i] = X_scaled[column_name]\n",
    "\n",
    "    return X_arr\n",
    "\n",
    "\n",
    "def get_X_lstm(X, scaler=None):\n",
    "\n",
    "    X_lstm = get_X_lstm_cols(X)\n",
    "    X_scaled, scaler = minmax_scale(X_lstm, scaler=scaler)\n",
    "    X_arr = reshape_X_lstm(X_scaled)\n",
    "\n",
    "    # Return the scaler to fit the test set\n",
    "    return X_arr, scaler"
   ]
  },
  {
   "cell_type": "code",
   "execution_count": 5,
   "metadata": {},
   "outputs": [],
   "source": [
    "from sklearn.model_selection import train_test_split\n",
    "from eventstox import df_to_X_y\n",
    "from models import process_X\n",
    "from imblearn.over_sampling import RandomOverSampler\n",
    "\n",
    "X, y = df_to_X_y(df_2021)\n",
    "X_test, X_val, y_test, y_val = train_test_split(X, y, test_size=0.2)\n",
    "\n",
    "X_lstm_test, scaler = get_X_lstm(X_test)\n",
    "X_lstm_val, _ = get_X_lstm(X_val, scaler)\n",
    "\n",
    "X_lgb_test = process_X(X_test)\n",
    "X_lgb_val = process_X(X_val)"
   ]
  },
  {
   "cell_type": "code",
   "execution_count": 21,
   "metadata": {},
   "outputs": [
    {
     "name": "stdout",
     "output_type": "stream",
     "text": [
      "20/20 [==============================] - 0s 8ms/step\n"
     ]
    },
    {
     "data": {
      "text/plain": [
       "0.7745547309833024"
      ]
     },
     "execution_count": 21,
     "metadata": {},
     "output_type": "execute_result"
    }
   ],
   "source": [
    "from sklearn.linear_model import LogisticRegressionCV, LogisticRegression\n",
    "from sklearn.metrics import roc_auc_score\n",
    "\n",
    "preds_lstm_val = lstm.predict(X_lstm_val)[:, 0]\n",
    "preds_lgb_val = lgb.predict(X_lgb_val)\n",
    "\n",
    "X_val_meta = np.stack(\n",
    "    [preds_lstm_val, preds_lgb_val,\n",
    "     #  preds_lgb_val - preds_lstm_val\n",
    "     ],\n",
    "    axis=1\n",
    ")\n",
    "\n",
    "C_values = [i for i in range(1, 20, 1)]\n",
    "logistic = LogisticRegressionCV(\n",
    "    cv=10, scoring='roc_auc',\n",
    "    Cs=C_values,\n",
    ")\n",
    "logistic.fit(X_val_meta, y_val)\n",
    "\n",
    "logistic_cv_scores = pd.DataFrame(logistic.scores_[1.0], columns=C_values)\n",
    "logistic_cv_scores.mean().max()"
   ]
  },
  {
   "cell_type": "code",
   "execution_count": 25,
   "metadata": {},
   "outputs": [
    {
     "name": "stdout",
     "output_type": "stream",
     "text": [
      "79/79 [==============================] - 0s 6ms/step\n",
      "LSTM: 0.7112840764743719\n",
      "LightGBM: 0.7637222159257334\n",
      "Logistic: 0.7604693026548777\n"
     ]
    }
   ],
   "source": [
    "from sklearn.metrics import roc_auc_score\n",
    "\n",
    "preds_lstm_test = lstm.predict(X_lstm_test)[:, 0]\n",
    "preds_lgb_test = lgb.predict(X_lgb_test)\n",
    "\n",
    "X_test_meta = np.stack(\n",
    "    [preds_lstm_test, preds_lgb_test,\n",
    "     #  preds_lgb_test - preds_lstm_test\n",
    "     ],\n",
    "    axis=1\n",
    ")\n",
    "preds_logistic_test = logistic.predict_proba(X_test_meta)[:, 1]\n",
    "\n",
    "print(f\"LSTM: {roc_auc_score(y_true=y_test, y_score=preds_lstm_test)}\")\n",
    "print(\n",
    "    f\"LightGBM: {roc_auc_score(y_true=y_test, y_score=preds_lgb_test)}\")\n",
    "print(\n",
    "    f\"Logistic: {roc_auc_score(y_true=y_test, y_score=preds_logistic_test)}\")"
   ]
  }
 ],
 "metadata": {
  "kernelspec": {
   "display_name": "Python 3",
   "language": "python",
   "name": "python3"
  },
  "language_info": {
   "codemirror_mode": {
    "name": "ipython",
    "version": 3
   },
   "file_extension": ".py",
   "mimetype": "text/x-python",
   "name": "python",
   "nbconvert_exporter": "python",
   "pygments_lexer": "ipython3",
   "version": "3.10.12"
  }
 },
 "nbformat": 4,
 "nbformat_minor": 2
}
