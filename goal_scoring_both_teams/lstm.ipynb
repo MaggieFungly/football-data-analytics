{
 "cells": [
  {
   "cell_type": "code",
   "execution_count": 13,
   "metadata": {},
   "outputs": [
    {
     "name": "stdout",
     "output_type": "stream",
     "text": [
      "The autoreload extension is already loaded. To reload it, use:\n",
      "  %reload_ext autoreload\n"
     ]
    }
   ],
   "source": [
    "import warnings\n",
    "import pandas as pd\n",
    "import numpy as np\n",
    "import os\n",
    "import matplotlib.pyplot as plt\n",
    "import ast\n",
    "import models\n",
    "import eventstox\n",
    "\n",
    "%matplotlib inline\n",
    "plt.rcParams['figure.figsize'] = [6, 4]\n",
    "\n",
    "pd.set_option('display.max_rows', None)\n",
    "pd.set_option('display.max_columns', None)\n",
    "\n",
    "warnings.filterwarnings('ignore')\n",
    "\n",
    "%load_ext autoreload\n",
    "%autoreload 2\n",
    "%config InlineBackend.figure_format = 'retina'\n"
   ]
  },
  {
   "cell_type": "code",
   "execution_count": 11,
   "metadata": {},
   "outputs": [],
   "source": [
    "df_1819 = pd.read_csv('df_1819.csv')\n",
    "df_1920 = pd.read_csv('df_1920.csv')\n",
    "df_2021 = pd.read_csv('df_2021.csv')\n",
    "\n",
    "X_1819, y_1819 = eventstox.df_to_X_y(df_1819)\n",
    "X_1920, y_1920 = eventstox.df_to_X_y(df_1920)\n",
    "X_2021, y_2021 = eventstox.df_to_X_y(df_2021)"
   ]
  },
  {
   "cell_type": "code",
   "execution_count": 85,
   "metadata": {},
   "outputs": [],
   "source": [
    "from sklearn.preprocessing import MinMaxScaler\n",
    "\n",
    "def preprocessing(X, y):\n",
    "\n",
    "    numeric_features = [\n",
    "        f\"{feature}_{i}\" for i in range(10) for feature in [\n",
    "        'location_x', 'location_y', 'end_location_x', 'end_location_y'\n",
    "        ]\n",
    "        ]\n",
    "    X_numeric = X[numeric_features]\n",
    "\n",
    "    binary_features = [f\"{feature}_{i}\" for i in range(10) for feature in [\n",
    "        'outcome', 'team']]\n",
    "    X_binary = X[binary_features]\n",
    "\n",
    "    scaler = MinMaxScaler()\n",
    "    X_numeric_scaled = pd.DataFrame(\n",
    "        scaler.fit_transform(X_numeric), columns=X_numeric.columns)\n",
    "\n",
    "    X_scaled = pd.concat([X_numeric_scaled, X_binary], axis=1)\n",
    "\n",
    "\n",
    "    data = pd.concat([X_scaled, pd.DataFrame({'y': y})], axis=1)\n",
    "    data_cleaned = data.dropna()\n",
    "\n",
    "    X_cleaned = data_cleaned.drop('y', axis=1)\n",
    "    y_cleaned = data_cleaned['y']\n",
    "\n",
    "    return X_cleaned, y_cleaned\n",
    "\n",
    "\n",
    "X = pd.concat([X_1819, X_1920], axis=0).reset_index(drop=True)\n",
    "y = np.concatenate([y_1819, y_1920], axis=0)\n",
    "\n",
    "X_scaled, y = preprocessing(X, y)"
   ]
  },
  {
   "cell_type": "code",
   "execution_count": 90,
   "metadata": {},
   "outputs": [],
   "source": [
    "features = ['location_x', 'location_y', 'end_location_x',\n",
    "            'end_location_y', 'outcome', 'team']\n",
    "feature_columns = [\n",
    "    f\"{feature}_{i}\" for i in range(10)\n",
    "    for feature in features\n",
    "]\n",
    "\n",
    "\n",
    "def get_lstm_arr(X: pd.DataFrame):\n",
    "\n",
    "    # Extract features for each timestamp\n",
    "    lstm_arr = X[feature_columns].to_numpy().reshape(\n",
    "        len(X), 10, len(features)\n",
    "    )\n",
    "\n",
    "    return lstm_arr\n",
    "\n",
    "X_lstm = get_lstm_arr(X)"
   ]
  }
 ],
 "metadata": {
  "kernelspec": {
   "display_name": "Python 3",
   "language": "python",
   "name": "python3"
  },
  "language_info": {
   "codemirror_mode": {
    "name": "ipython",
    "version": 3
   },
   "file_extension": ".py",
   "mimetype": "text/x-python",
   "name": "python",
   "nbconvert_exporter": "python",
   "pygments_lexer": "ipython3",
   "version": "3.10.12"
  }
 },
 "nbformat": 4,
 "nbformat_minor": 2
}
